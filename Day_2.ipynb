{
  "nbformat": 4,
  "nbformat_minor": 0,
  "metadata": {
    "colab": {
      "name": "Day 2.ipynb",
      "provenance": [],
      "collapsed_sections": []
    },
    "kernelspec": {
      "name": "python3",
      "display_name": "Python 3"
    },
    "language_info": {
      "name": "python"
    }
  },
  "cells": [
    {
      "cell_type": "code",
      "metadata": {
        "id": "NW617hE_KLo9"
      },
      "source": [
        "# Assignment for Day 2 Input 'Hello'  output h-1 e-1 l-2 o-1"
      ],
      "execution_count": null,
      "outputs": []
    },
    {
      "cell_type": "code",
      "metadata": {
        "colab": {
          "base_uri": "https://localhost:8080/"
        },
        "id": "h2peb8_RNeCz",
        "outputId": "498956d9-57b2-4fcd-e98b-930e622afaa0"
      },
      "source": [
        "\n",
        "import collections\n",
        "a = input('Enter the String : ')\n",
        "print(collections.Counter(a))"
      ],
      "execution_count": 10,
      "outputs": [
        {
          "output_type": "stream",
          "text": [
            "Enter the String : Hi This is Rayyan from Pondicherry\n",
            "Counter({' ': 5, 'i': 4, 'y': 3, 'r': 3, 'h': 2, 's': 2, 'a': 2, 'n': 2, 'o': 2, 'H': 1, 'T': 1, 'R': 1, 'f': 1, 'm': 1, 'P': 1, 'd': 1, 'c': 1, 'e': 1})\n"
          ],
          "name": "stdout"
        }
      ]
    },
    {
      "cell_type": "code",
      "metadata": {
        "colab": {
          "base_uri": "https://localhost:8080/"
        },
        "id": "j0Zi8Qp6LRra",
        "outputId": "eb2761f9-e61b-4e55-8cb1-772c3891c759"
      },
      "source": [
        "# For numbers in a List\n",
        "from collections import Counter        \n",
        "list = input ('Enter the list:')     \n",
        "c = Counter(list)      \n",
        "print('the Numbers of Items in the List are:',[c])\n"
      ],
      "execution_count": 21,
      "outputs": [
        {
          "output_type": "stream",
          "text": [
            "Enter the list:12233665544\n",
            "the Numbers of Items in the List are: [Counter({'2': 2, '3': 2, '6': 2, '5': 2, '4': 2, '1': 1})]\n"
          ],
          "name": "stdout"
        }
      ]
    }
  ]
}