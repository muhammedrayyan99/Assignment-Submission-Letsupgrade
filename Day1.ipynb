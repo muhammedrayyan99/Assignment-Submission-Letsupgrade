{
  "nbformat": 4,
  "nbformat_minor": 0,
  "metadata": {
    "colab": {
      "name": "Day1.ipynb",
      "provenance": [],
      "collapsed_sections": []
    },
    "kernelspec": {
      "name": "python3",
      "display_name": "Python 3"
    },
    "language_info": {
      "name": "python"
    }
  },
  "cells": [
    {
      "cell_type": "code",
      "metadata": {
        "id": "OtC_P6-mDJpt"
      },
      "source": [
        "# Assignment - Take two inputs and store in variable x and y, find x to the power y."
      ],
      "execution_count": null,
      "outputs": []
    },
    {
      "cell_type": "code",
      "metadata": {
        "colab": {
          "base_uri": "https://localhost:8080/"
        },
        "id": "JUTB9SizDakk",
        "outputId": "1696911e-e0db-4daa-f3f2-402b7d2a076f"
      },
      "source": [
        "x = int(input('Enter the value for x: '))      \n",
        "y = int(input('Enter the value for y: '))      \n",
        "\n",
        "result = x**y\n",
        "\n",
        "print(f'The x^​y is : {result}')"
      ],
      "execution_count": null,
      "outputs": [
        {
          "output_type": "stream",
          "text": [
            "Enter the value for x: 2\n",
            "Enter the value for y: 5\n",
            "The x^​y is : 32\n"
          ],
          "name": "stdout"
        }
      ]
    }
  ]
}