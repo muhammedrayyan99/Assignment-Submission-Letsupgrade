{
  "nbformat": 4,
  "nbformat_minor": 0,
  "metadata": {
    "colab": {
      "name": "Day 3.ipynb",
      "provenance": [],
      "collapsed_sections": []
    },
    "kernelspec": {
      "name": "python3",
      "display_name": "Python 3"
    },
    "language_info": {
      "name": "python"
    }
  },
  "cells": [
    {
      "cell_type": "code",
      "metadata": {
        "id": "i6zWcQHjQ-gm"
      },
      "source": [
        "# Assignment/Project: WAP to generate everytime a 6 character OTP."
      ],
      "execution_count": null,
      "outputs": []
    },
    {
      "cell_type": "code",
      "metadata": {
        "colab": {
          "base_uri": "https://localhost:8080/"
        },
        "id": "zn7PCnTHRDM9",
        "outputId": "28a0d0ce-0927-438d-b24b-3f255c8490a4"
      },
      "source": [
        "# Random Example 1\n",
        "import random\n",
        "import string\n",
        "\n",
        "id = ''\n",
        "OTP = list( string.digits)\n",
        "for i in range(6):\n",
        "  id += random.choice(OTP)\n",
        "\n",
        "print('The Generated OTP is :',(id), \"Don't Share with anyone\")"
      ],
      "execution_count": 8,
      "outputs": [
        {
          "output_type": "stream",
          "text": [
            "The Generated OTP is : 887133 Don't Share with anyone\n"
          ],
          "name": "stdout"
        }
      ]
    },
    {
      "cell_type": "code",
      "metadata": {
        "colab": {
          "base_uri": "https://localhost:8080/"
        },
        "id": "xAvJwWDdRNyK",
        "outputId": "bd2e0815-717d-45ca-ff42-2e0c122139e5"
      },
      "source": [
        "# Random Example 2\n",
        "import random\n",
        "import string\n",
        "\n",
        "id = ''\n",
        "OTP = list( string.digits)\n",
        "for i in range(6):\n",
        "  id += random.choice(OTP)\n",
        "\n",
        "print('The Generated OTP for Your Letsupgrade Login is :',(id),'.' ,\"Don't Share with anyone.\",'For more queries dont ask me. Stay Home and Connect With LetsUpgrade.')"
      ],
      "execution_count": 13,
      "outputs": [
        {
          "output_type": "stream",
          "text": [
            "The Generated OTP for Your Letsupgrade Login is : 806796 . Don't Share with anyone. For more queries dont ask me. Stay Home and Connect With LetsUpgrade.\n"
          ],
          "name": "stdout"
        }
      ]
    },
    {
      "cell_type": "code",
      "metadata": {
        "id": "6Ia2kC0nTUPk"
      },
      "source": [
        "# Assignment - Implement a decorator mod_div() which assures that the numerator is always greater than the denominator\n",
        "# e.g. if a = 2, b = 4, then div(a, b) should return 2.0 as the output and not 0.5"
      ],
      "execution_count": null,
      "outputs": []
    },
    {
      "cell_type": "code",
      "metadata": {
        "colab": {
          "base_uri": "https://localhost:8080/"
        },
        "id": "kwcZzs4-TVZJ",
        "outputId": "dd7f7717-2dc6-440a-b357-45b53971b8ec"
      },
      "source": [
        "def mod_div(fun):\n",
        "  def inner(a, b):\n",
        "    if a < b:\n",
        "      a, b = b, a\n",
        "    fun(a, b)   \n",
        "\n",
        "  return inner\n",
        "\n",
        "@mod_div\n",
        "def div(a, b):\n",
        "  print(a/b)\n",
        "\n",
        "div(2, 4)"
      ],
      "execution_count": 19,
      "outputs": [
        {
          "output_type": "stream",
          "text": [
            "2.0\n"
          ],
          "name": "stdout"
        }
      ]
    }
  ]
}